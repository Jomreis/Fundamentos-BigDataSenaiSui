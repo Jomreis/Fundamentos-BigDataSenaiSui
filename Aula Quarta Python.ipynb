{
 "cells": [
  {
   "cell_type": "markdown",
   "metadata": {},
   "source": [
    "# Estrutura de repetição For\n"
   ]
  },
  {
   "cell_type": "code",
   "execution_count": 1,
   "metadata": {},
   "outputs": [
    {
     "ename": "SyntaxError",
     "evalue": "invalid syntax (643446928.py, line 3)",
     "output_type": "error",
     "traceback": [
      "\u001b[1;36m  Cell \u001b[1;32mIn[1], line 3\u001b[1;36m\u001b[0m\n\u001b[1;33m    for fruta im frutas\u001b[0m\n\u001b[1;37m              ^\u001b[0m\n\u001b[1;31mSyntaxError\u001b[0m\u001b[1;31m:\u001b[0m invalid syntax\n"
     ]
    }
   ],
   "source": [
    "frutas = ['Abacaxi','Laranja','Goiaba','Banana']\n",
    "\n",
    "for fruta im frutas\n",
    "    "
   ]
  },
  {
   "cell_type": "markdown",
   "metadata": {},
   "source": [
    "Exercicio 1\n"
   ]
  },
  {
   "cell_type": "code",
   "execution_count": null,
   "metadata": {},
   "outputs": [
    {
     "name": "stdout",
     "output_type": "stream",
     "text": [
      "0\n",
      "1\n",
      "2\n",
      "3\n",
      "4\n",
      "5\n",
      "6\n",
      "7\n",
      "8\n",
      "9\n",
      "10\n"
     ]
    }
   ],
   "source": [
    "# criando uma lista com valores de 0 0 10\n",
    "\n",
    "lista = [0,1,2,3,4,5,6,7,8,9,10]\n",
    "\n",
    "for i in lista:\n",
    "    print(i)\n",
    "\n"
   ]
  },
  {
   "cell_type": "markdown",
   "metadata": {},
   "source": [
    "# Exercício 12 \n",
    "Desenvolva um gerador de tabuada, capaz de gerar a tabuada de \n",
    "qualquer número inteiro entre 1 a 10. O usuário deve informar de qual numero ele deseja \n",
    "ver a tabuada. A saída deve ser conforme o exemplo abaixo:\n"
   ]
  },
  {
   "cell_type": "code",
   "execution_count": null,
   "metadata": {},
   "outputs": [
    {
     "name": "stdout",
     "output_type": "stream",
     "text": [
      "Tabuada do Numero14\n",
      "14\n",
      "28\n",
      "42\n",
      "56\n",
      "70\n",
      "84\n",
      "98\n",
      "112\n",
      "126\n",
      "140\n"
     ]
    }
   ],
   "source": [
    "# criando uma lista com valores de 0 0 10\n",
    "\n",
    "multiplicadores = [1,2,3,4,5,6,7,8,9,10]\n",
    "\n",
    "i = int(input('Digite o numero'))\n",
    "\n",
    "print(f'Tabuada do Numero{i}')\n",
    "\n",
    "for num in multiplicadores:\n",
    "    print(num*i)\n"
   ]
  },
  {
   "cell_type": "code",
   "execution_count": null,
   "metadata": {},
   "outputs": [
    {
     "name": "stdout",
     "output_type": "stream",
     "text": [
      "Tabuada do Numero8\n",
      "- 8 x 1 =8\n",
      "- 8 x 2 =16\n",
      "- 8 x 3 =24\n",
      "- 8 x 4 =32\n",
      "- 8 x 5 =40\n",
      "- 8 x 6 =48\n",
      "- 8 x 7 =56\n",
      "- 8 x 8 =64\n",
      "- 8 x 9 =72\n",
      "- 8 x 10 =80\n"
     ]
    }
   ],
   "source": [
    "# criando uma lista com valores de 0 0 10\n",
    "\n",
    "multiplicadores = [1,2,3,4,5,6,7,8,9,10]\n",
    "\n",
    "i = int(input('Digite o numero'))\n",
    "\n",
    "print(f'Tabuada do Numero{i}')\n",
    "\n",
    "for num in multiplicadores:\n",
    "    print(f'- {i} x {num} ={num * i}')"
   ]
  },
  {
   "cell_type": "markdown",
   "metadata": {},
   "source": [
    "### Exercício 06 \n",
    "Faça um programa que imprima na tela os números de 1 a 20, um abaixo \n",
    "do outro. Depois modifique o programa para que ele mostre os números um ao lado do \n",
    "outro"
   ]
  },
  {
   "cell_type": "code",
   "execution_count": null,
   "metadata": {},
   "outputs": [
    {
     "name": "stdout",
     "output_type": "stream",
     "text": [
      "1\n",
      "2\n",
      "3\n",
      "4\n",
      "5\n",
      "6\n",
      "7\n",
      "8\n",
      "9\n",
      "10\n",
      "11\n",
      "12\n",
      "13\n",
      "14\n",
      "15\n",
      "16\n",
      "17\n",
      "18\n",
      "19\n",
      "20\n"
     ]
    }
   ],
   "source": [
    "### Imprimir numeros\n",
    "\n",
    "intervalo = range(1,21)\n",
    "\n",
    "# Exibir valores na vertical\n",
    "\n",
    "for num in intervalo:\n",
    "    print(num)"
   ]
  },
  {
   "cell_type": "code",
   "execution_count": null,
   "metadata": {},
   "outputs": [
    {
     "name": "stdout",
     "output_type": "stream",
     "text": [
      "[1]\n",
      "[1, 2]\n",
      "[1, 2, 3]\n",
      "[1, 2, 3, 4]\n",
      "[1, 2, 3, 4, 5]\n",
      "[1, 2, 3, 4, 5, 6]\n",
      "[1, 2, 3, 4, 5, 6, 7]\n",
      "[1, 2, 3, 4, 5, 6, 7, 8]\n",
      "[1, 2, 3, 4, 5, 6, 7, 8, 9]\n",
      "[1, 2, 3, 4, 5, 6, 7, 8, 9, 10]\n",
      "[1, 2, 3, 4, 5, 6, 7, 8, 9, 10, 11]\n",
      "[1, 2, 3, 4, 5, 6, 7, 8, 9, 10, 11, 12]\n",
      "[1, 2, 3, 4, 5, 6, 7, 8, 9, 10, 11, 12, 13]\n",
      "[1, 2, 3, 4, 5, 6, 7, 8, 9, 10, 11, 12, 13, 14]\n",
      "[1, 2, 3, 4, 5, 6, 7, 8, 9, 10, 11, 12, 13, 14, 15]\n",
      "[1, 2, 3, 4, 5, 6, 7, 8, 9, 10, 11, 12, 13, 14, 15, 16]\n",
      "[1, 2, 3, 4, 5, 6, 7, 8, 9, 10, 11, 12, 13, 14, 15, 16, 17]\n",
      "[1, 2, 3, 4, 5, 6, 7, 8, 9, 10, 11, 12, 13, 14, 15, 16, 17, 18]\n",
      "[1, 2, 3, 4, 5, 6, 7, 8, 9, 10, 11, 12, 13, 14, 15, 16, 17, 18, 19]\n",
      "[1, 2, 3, 4, 5, 6, 7, 8, 9, 10, 11, 12, 13, 14, 15, 16, 17, 18, 19, 20]\n"
     ]
    }
   ],
   "source": [
    "# Exibir valores na horizontal\n",
    "\n",
    "lista = [] # Lista vazia\n",
    "\n",
    "\n",
    "for num in intervalo:\n"
   ]
  },
  {
   "cell_type": "code",
   "execution_count": null,
   "metadata": {},
   "outputs": [],
   "source": [
    "    lista.append(num)\n",
    "    print(lista)"
   ]
  },
  {
   "cell_type": "code",
   "execution_count": null,
   "metadata": {},
   "outputs": [
    {
     "name": "stdout",
     "output_type": "stream",
     "text": [
      "[1, 2, 3, 4, 5, 6, 7, 8, 9, 10, 11, 12, 13, 14, 15, 16, 17, 18, 19, 20]\n"
     ]
    }
   ],
   "source": [
    "# Exibir valores na horizontal\n",
    "\n",
    "## Retirar a identação antes do print\n",
    "\n",
    "lista = [] # Lista vazia\n",
    "\n",
    "\n",
    "for num in intervalo:\n",
    "    lista.append(num)\n",
    "print(lista)"
   ]
  },
  {
   "cell_type": "markdown",
   "metadata": {},
   "source": [
    "### Exercício 09 \n",
    "Faça um programa que imprima na tela apenas os números ímpares \n",
    "entre 1 e 50"
   ]
  },
  {
   "cell_type": "code",
   "execution_count": null,
   "metadata": {},
   "outputs": [
    {
     "name": "stdout",
     "output_type": "stream",
     "text": [
      "1\n",
      "3\n",
      "5\n",
      "7\n",
      "9\n",
      "11\n",
      "13\n",
      "15\n",
      "17\n",
      "19\n",
      "21\n",
      "23\n",
      "25\n",
      "27\n",
      "29\n",
      "31\n",
      "33\n",
      "35\n",
      "37\n",
      "39\n",
      "41\n",
      "43\n",
      "45\n",
      "47\n",
      "49\n"
     ]
    }
   ],
   "source": [
    "numeros = range(1,51)\n",
    "\n",
    "for num in numeros:\n",
    "\n",
    "    if num % 2 != 0:\n",
    "    \n",
    "        print(num)"
   ]
  },
  {
   "cell_type": "markdown",
   "metadata": {},
   "source": [
    "### Exercício 10\n",
    "Faça um programa que receba dois números inteiros e gere os números \n",
    "inteiros que estão no intervalo compreendido por eles."
   ]
  },
  {
   "cell_type": "code",
   "execution_count": null,
   "metadata": {},
   "outputs": [
    {
     "name": "stdout",
     "output_type": "stream",
     "text": [
      "14\n",
      "15\n",
      "16\n",
      "17\n",
      "18\n",
      "19\n",
      "20\n"
     ]
    }
   ],
   "source": [
    "# Solicitar o primeiro numero, colocar em uma variavel\n",
    "\n",
    "# Solicitar o segundo numero, colocar em uma variavel\n",
    "\n",
    "# Criar uma lista entre os valores informados anteriormente\n",
    "\n",
    "inferior = int(input('Digite o numero inicial:'))\n",
    "superior = int(input('Digite o numero final:'))\n",
    "\n",
    "#Garantir que o numero inferior não seja maior que o superior\n",
    "\n",
    "if inferior>superior:\n",
    "    inferior, superior = superior, inferior\n",
    "    \n",
    "#Gerar uma faixa de valores entre inferior e superior\n",
    "\n",
    "numeros = range(inferior,superior+1)\n",
    "\n",
    "for num in numeros:\n",
    "    print(num)"
   ]
  },
  {
   "cell_type": "markdown",
   "metadata": {},
   "source": [
    "### Estrutura de repetição Wrile\n",
    "\n",
    "Exercicios de fixação."
   ]
  },
  {
   "cell_type": "markdown",
   "metadata": {},
   "source": [
    "### Exercício 01\n",
    "Escreva um programa que imprima todos os números pares de 1\n",
    "a 100. (FOR)"
   ]
  },
  {
   "cell_type": "code",
   "execution_count": 5,
   "metadata": {},
   "outputs": [
    {
     "name": "stdout",
     "output_type": "stream",
     "text": [
      "2\n",
      "4\n",
      "6\n",
      "8\n",
      "10\n",
      "12\n",
      "14\n",
      "16\n",
      "18\n",
      "20\n",
      "22\n",
      "24\n",
      "26\n",
      "28\n",
      "30\n",
      "32\n",
      "34\n",
      "36\n",
      "38\n",
      "40\n",
      "42\n",
      "44\n",
      "46\n",
      "48\n",
      "50\n",
      "52\n",
      "54\n",
      "56\n",
      "58\n",
      "60\n",
      "62\n",
      "64\n",
      "66\n",
      "68\n",
      "70\n",
      "72\n",
      "74\n",
      "76\n",
      "78\n",
      "80\n",
      "82\n",
      "84\n",
      "86\n",
      "88\n",
      "90\n",
      "92\n",
      "94\n",
      "96\n",
      "98\n",
      "100\n"
     ]
    }
   ],
   "source": [
    "numeros = range(1,101)# Criando um intervalo de 1 a 100\n",
    "\n",
    "for num in numeros:\n",
    "\n",
    "    if num % 2 == 0:\n",
    "\n",
    "        print(num)"
   ]
  },
  {
   "cell_type": "markdown",
   "metadata": {},
   "source": [
    "### Exercício 02 \n",
    "Crie um programa que conte quantas vezes a letra 'a' aparece em\n",
    "uma frase inserida pelo usuário. (FOR e IF)"
   ]
  },
  {
   "cell_type": "code",
   "execution_count": 31,
   "metadata": {},
   "outputs": [
    {
     "name": "stdout",
     "output_type": "stream",
     "text": [
      "A frase contem 7 letras A\n"
     ]
    }
   ],
   "source": [
    "frase = input('Digite algo aqui:')\n",
    "\n",
    "# Converter todas as letras em minusculo\n",
    "frase = frase.lower()\n",
    "contador = 0\n",
    "\n",
    "for letra in frase:\n",
    "    \n",
    "    if letra == 'a':\n",
    "        contador = contador + 1\n",
    "\n",
    "print(f'A frase contem {contador} letras A')"
   ]
  },
  {
   "cell_type": "markdown",
   "metadata": {},
   "source": [
    "### Exercício 03 \n",
    "Faça um programa que calcule a soma dos números de 1 a 100.\n",
    "(FOR)"
   ]
  },
  {
   "cell_type": "code",
   "execution_count": 60,
   "metadata": {},
   "outputs": [
    {
     "name": "stdout",
     "output_type": "stream",
     "text": [
      "A soma é: 5050\n"
     ]
    }
   ],
   "source": [
    "# Criar uma lista de valores de 0 a 100\n",
    "numeros = range(1,101)\n",
    "\n",
    "# Criar uma variavel acumuladora\n",
    "soma = 0\n",
    "\n",
    "for num in numeros:\n",
    "    soma = soma + num\n",
    "\n",
    "print('A soma é:', soma)"
   ]
  },
  {
   "cell_type": "markdown",
   "metadata": {},
   "source": [
    "### Exercício 04 \n",
    "Crie um programa que solicite ao usuário que digite uma senha e\n",
    "continue pedindo até que a senha digitada seja igual a \"12345\". Quando a senha\n",
    "for correta, exiba uma mensagem de boas-vindas. (WHILE)"
   ]
  },
  {
   "cell_type": "markdown",
   "metadata": {},
   "source": [
    "### Exercício 08 \n",
    "Faça um programa que leia 5 números e informe a soma e a média dos\n",
    "números."
   ]
  },
  {
   "cell_type": "code",
   "execution_count": 62,
   "metadata": {},
   "outputs": [
    {
     "name": "stdout",
     "output_type": "stream",
     "text": [
      "Seja bem vindo!\n"
     ]
    }
   ],
   "source": [
    "senha = input('Digite uma senha')\n",
    "\n",
    "while senha != '12345':\n",
    "    senha = input('Digite uma senha')\n",
    "\n",
    "    print('Seja bem vindo!')"
   ]
  },
  {
   "cell_type": "code",
   "execution_count": 53,
   "metadata": {},
   "outputs": [
    {
     "ename": "ValueError",
     "evalue": "could not convert string to float: '1,2,3,4,5,'",
     "output_type": "error",
     "traceback": [
      "\u001b[1;31m---------------------------------------------------------------------------\u001b[0m",
      "\u001b[1;31mValueError\u001b[0m                                Traceback (most recent call last)",
      "Cell \u001b[1;32mIn[53], line 14\u001b[0m\n\u001b[0;32m      9\u001b[0m \u001b[39m# Estrutura de Repetição para Solicitar 5 Valores\u001b[39;00m\n\u001b[0;32m     10\u001b[0m \u001b[39m# e Inserir na Lista (Lista_numeros)\u001b[39;00m\n\u001b[0;32m     13\u001b[0m \u001b[39mwhile\u001b[39;00m i \u001b[39m<\u001b[39m \u001b[39m5\u001b[39m:\n\u001b[1;32m---> 14\u001b[0m     numero \u001b[39m=\u001b[39m \u001b[39mfloat\u001b[39;49m(\u001b[39minput\u001b[39;49m(\u001b[39m'\u001b[39;49m\u001b[39mDigite um valor:\u001b[39;49m\u001b[39m'\u001b[39;49m))\n\u001b[0;32m     16\u001b[0m         \u001b[39m# Adicionar o numero inserido , na lista criada\u001b[39;00m\n\u001b[0;32m     17\u001b[0m     lista_numeros\u001b[39m.\u001b[39mappend(numero)\n",
      "\u001b[1;31mValueError\u001b[0m: could not convert string to float: '1,2,3,4,5,'"
     ]
    }
   ],
   "source": [
    "# Criar uma lista vazia para armazenar os valores\n",
    "\n",
    "lista_numeros = []\n",
    "\n",
    "# Variavel de Controle de Repetição\n",
    "\n",
    "i = 0\n",
    "\n",
    "# Estrutura de Repetição para Solicitar 5 Valores\n",
    "# e Inserir na Lista (Lista_numeros)\n",
    "\n",
    "\n",
    "while i < 5:\n",
    "    numero = float(input('Digite um valor:'))\n",
    "\n",
    "    # Adicionar o numero inserido , na lista criada\n",
    "    lista_numeros.append(numero)\n",
    "\n",
    "    i += 1 # Incremento de uma unidade na variavel i\n",
    "\n",
    "print(lista_numeros)\n",
    "\n",
    "# Declarar a variavel para armazenar o soma dos valores\n",
    "soma = 0\n",
    "\n",
    "for x in lista_numeros:\n",
    "    \n",
    "    # Somar a variavel soma com o valor da variavel x\n",
    "    soma = soma + x \n",
    "\n",
    "print(soma)"
   ]
  },
  {
   "cell_type": "markdown",
   "metadata": {},
   "source": [
    "### Exercício 14\n",
    "Faça um programa que peça 10 números inteiros, calcule e mostre a\n",
    "quantidade de números pares e a quantidade de números ímpares."
   ]
  },
  {
   "cell_type": "code",
   "execution_count": 35,
   "metadata": {},
   "outputs": [
    {
     "name": "stdout",
     "output_type": "stream",
     "text": [
      "Neste conjunto de numeros, contem 5 numeros pares e 5 numeros pares\n"
     ]
    }
   ],
   "source": [
    "numeros = [1,2,3,4,5,6,7,8,9,10]\n",
    "\n",
    "# Variaveis Contadores\n",
    "impar = 0\n",
    "par = 0\n",
    "\n",
    "for num in numeros:\n",
    "    if num % 2 != 0:\n",
    "        #impar\n",
    "        impar += 1\n",
    "    else:\n",
    "        par +=1\n",
    "\n",
    "print(f'Neste conjunto de numeros, contem {impar} numeros pares e {par} numeros pares')"
   ]
  },
  {
   "cell_type": "code",
   "execution_count": 42,
   "metadata": {},
   "outputs": [
    {
     "ename": "NameError",
     "evalue": "name 'numero' is not defined",
     "output_type": "error",
     "traceback": [
      "\u001b[1;31m---------------------------------------------------------------------------\u001b[0m",
      "\u001b[1;31mNameError\u001b[0m                                 Traceback (most recent call last)",
      "Cell \u001b[1;32mIn[42], line 6\u001b[0m\n\u001b[0;32m      3\u001b[0m i \u001b[39m=\u001b[39m \u001b[39m1\u001b[39m \u001b[39m# Variavel de Controle\u001b[39;00m\n\u001b[0;32m      5\u001b[0m \u001b[39mwhile\u001b[39;00m i \u001b[39m<\u001b[39m\u001b[39m=\u001b[39m \u001b[39m10\u001b[39m:\n\u001b[1;32m----> 6\u001b[0m     numero \u001b[39m+\u001b[39m \u001b[39mint\u001b[39m(\u001b[39minput\u001b[39m(\u001b[39m'\u001b[39m\u001b[39mdigite um numero:\u001b[39m\u001b[39m'\u001b[39m))\n\u001b[0;32m      7\u001b[0m     lista\u001b[39m.\u001b[39mappend(numero)\n\u001b[0;32m      9\u001b[0m     i \u001b[39m=\u001b[39m i \u001b[39m+\u001b[39m \u001b[39m1\u001b[39m\n",
      "\u001b[1;31mNameError\u001b[0m: name 'numero' is not defined"
     ]
    }
   ],
   "source": [
    "lista = [] #Lista vazia\n",
    "\n",
    "i = 1 # Variavel de Controle\n",
    "\n",
    "while i <= 10:\n",
    "    numero + int(input('digite um numero:'))\n",
    "    lista.append(numero)\n",
    "\n",
    "    i = i + 1\n",
    "print(lista)"
   ]
  },
  {
   "cell_type": "code",
   "execution_count": 41,
   "metadata": {},
   "outputs": [
    {
     "ename": "SyntaxError",
     "evalue": "unmatched ']' (3241250320.py, line 13)",
     "output_type": "error",
     "traceback": [
      "\u001b[1;36m  Cell \u001b[1;32mIn[41], line 13\u001b[1;36m\u001b[0m\n\u001b[1;33m    ]\u001b[0m\n\u001b[1;37m    ^\u001b[0m\n\u001b[1;31mSyntaxError\u001b[0m\u001b[1;31m:\u001b[0m unmatched ']'\n"
     ]
    }
   ],
   "source": [
    "# Lista Vazia, responsavel por armazenar os valores inseridos\n",
    "numeros = []\n",
    "\n",
    "# Variavel de Controle de Pepetição\n",
    "i = 1\n",
    "\n",
    "while i <= 10:\n",
    "    numero + int(input('digite um numero inteiro:'))\n",
    "    #Adicionar o Numero Digitado na Lista de Numeros\n",
    "    lista.append(numero)\n",
    "    i = i +1\n",
    "\n",
    "print"
   ]
  },
  {
   "cell_type": "markdown",
   "metadata": {},
   "source": [
    "### Exercício 17 \n",
    "Faça um programa que calcule o fatorial de um número inteiro fornecido\n",
    "pelo usuário. Ex.: 5!=5.4.3.2.1=120"
   ]
  },
  {
   "cell_type": "code",
   "execution_count": 59,
   "metadata": {},
   "outputs": [
    {
     "name": "stdout",
     "output_type": "stream",
     "text": [
      "****Cálculo de Fatorial****\n",
      "90\n",
      "720\n",
      "5040\n",
      "30240\n",
      "151200\n",
      "604800\n",
      "1814400\n",
      "3628800\n",
      "3628800\n",
      "3628800\n"
     ]
    }
   ],
   "source": [
    "print('****Cálculo de Fatorial****')\n",
    "\n",
    "# Solicitar o valor\n",
    "i = int(input('Digite um numero para calcular o fatorial:'))\n",
    "fatorial = i\n",
    "\n",
    "while i >= 1:\n",
    "   i = i-1\n",
    "   if i != 0:\n",
    "     fatorial = fatorial * i \n",
    "\n",
    "   \n",
    "\n",
    "\n",
    "   print(fatorial)\n"
   ]
  },
  {
   "cell_type": "code",
   "execution_count": 1,
   "metadata": {},
   "outputs": [
    {
     "name": "stdout",
     "output_type": "stream",
     "text": [
      "Números classificados:\n",
      "25\n",
      "35\n",
      "65\n",
      "84\n",
      "87\n"
     ]
    }
   ],
   "source": [
    "# Solicita ao usuário que insira os 5 números\n",
    "numeros = []\n",
    "for i in range(5):\n",
    "    numero = int(input(\"Digite um número: \"))\n",
    "    numeros.append(numero)\n",
    "\n",
    "# Solicita ao usuário que escolha a ordem de classificação\n",
    "ordem = input(\"Deseja classificar em ordem crescente (C) ou decrescente (D)? \")\n",
    "\n",
    "# Classifica os números de acordo com a escolha do usuário\n",
    "if ordem.upper() == \"C\":\n",
    "    numeros.sort()\n",
    "elif ordem.upper() == \"D\":\n",
    "    numeros.sort(reverse=True)\n",
    "\n",
    "# Exibe os números classificados\n",
    "print(\"Números classificados:\")\n",
    "for numero in numeros:\n",
    "    print(numero)"
   ]
  },
  {
   "cell_type": "code",
   "execution_count": 1,
   "metadata": {},
   "outputs": [
    {
     "name": "stdout",
     "output_type": "stream",
     "text": [
      "Invalid input! Please enter 'asc' or 'desc' for the order.\n"
     ]
    }
   ],
   "source": [
    "num1 = float(input(\"Enter the first number: \"))\n",
    "num2 = float(input(\"Enter the second number: \"))\n",
    "num3 = float(input(\"Enter the third number: \"))\n",
    "num4 = float(input(\"Enter the fourth number: \"))\n",
    "num5 = float(input(\"Enter the fifth number: \"))\n",
    "\n",
    "order = input(\"Enter 'asc' for ascending order or 'desc' for descending order: \")\n",
    "\n",
    "if order == 'asc':\n",
    "    if num1 <= num2 and num1 <= num3 and num1 <= num4 and num1 <= num5:\n",
    "        smallest = num1\n",
    "        if num2 <= num3 and num2 <= num4 and num2 <= num5:\n",
    "            second_smallest = num2\n",
    "            if num3 <= num4 and num3 <= num5:\n",
    "                third_smallest = num3\n",
    "                if num4 <= num5:\n",
    "                    fourth_smallest = num4\n",
    "                    largest = num5\n",
    "                else:\n",
    "                    fourth_smallest = num5\n",
    "                    largest = num4\n",
    "            else:\n",
    "                third_smallest = num4\n",
    "                fourth_smallest = num3\n",
    "                largest = num5\n",
    "        elif num3 <= num4 and num3 <= num5:\n",
    "            second_smallest = num3\n",
    "            if num2 <= num4 and num2 <= num5:\n",
    "                third_smallest = num2\n",
    "                if num4 <= num5:\n",
    "                    fourth_smallest = num4\n",
    "                    largest = num5\n",
    "                else:\n",
    "                    fourth_smallest = num5\n",
    "                    largest = num4\n",
    "            else:\n",
    "                third_smallest = num5\n",
    "                fourth_smallest = num2\n",
    "                largest = num4\n",
    "        else:\n",
    "            second_smallest = num4\n",
    "            third_smallest = num5\n",
    "            fourth_smallest = num2\n",
    "            largest = num3\n",
    "    elif num2 <= num3 and num2 <= num4 and num2 <= num5:\n",
    "        smallest = num2\n",
    "        if num1 <= num3 and num1 <= num4 and num1 <= num5:\n",
    "            second_smallest = num1\n",
    "            if num3 <= num4 and num3 <= num5:\n",
    "                third_smallest = num3\n",
    "                if num4 <= num5:\n",
    "                    fourth_smallest = num4\n",
    "                    largest = num5\n",
    "                else:\n",
    "                    fourth_smallest = num5\n",
    "                    largest = num4\n",
    "            else:\n",
    "                third_smallest = num4\n",
    "                fourth_smallest = num3\n",
    "                largest = num5\n",
    "        elif num3 <= num4 and num3 <= num5:\n",
    "            second_smallest = num3\n",
    "            if num1 <= num4 and num1 <= num5:\n",
    "                third_smallest = num1\n",
    "                if num4 <= num5:\n",
    "                    fourth_smallest = num4\n",
    "                    largest = num5\n",
    "                else:\n",
    "                    fourth_smallest = num5\n",
    "                    largest = num4\n",
    "            else:\n",
    "                third_smallest = num5\n",
    "                fourth_smallest = num1\n",
    "                largest = num4\n",
    "        else:\n",
    "            second_smallest = num4\n",
    "            third_smallest = num5\n",
    "            fourth_smallest = num1\n",
    "            largest = num3\n",
    "    elif num3 <= num4 and num3 <= num5:\n",
    "        smallest = num3\n",
    "        if num1 <= num2 and num1 <= num4 and num1 <= num5:\n",
    "            second_smallest = num1\n",
    "            if num2 <= num4 and num2 <= num5:\n",
    "                third_smallest = num2\n",
    "                if num4 <= num5:\n",
    "                    fourth_smallest = num4\n",
    "                    largest = num5\n",
    "                else:\n",
    "                    fourth_smallest = num5\n",
    "                    largest = num4\n",
    "            else:\n",
    "                third_smallest = num4\n",
    "                fourth_smallest = num2\n",
    "                largest = num5\n",
    "        elif num2 <= num4 and num2 <= num5:\n",
    "            second_smallest = num2\n",
    "            if num1 <= num4 and num1 <= num5:\n",
    "                third_smallest = num1\n",
    "                if num4 <= num5:\n",
    "                    fourth_smallest = num4\n",
    "                    largest = num5\n",
    "                else:\n",
    "                    fourth_smallest = num5\n",
    "                    largest = num4\n",
    "            else:\n",
    "                third_smallest = num5\n",
    "                fourth_smallest = num1\n",
    "                largest = num4\n",
    "        else:\n",
    "            second_smallest = num4\n",
    "            third_smallest = num5\n",
    "            fourth_smallest = num1\n",
    "            largest = num2\n",
    "    else:\n",
    "        smallest = num4\n",
    "        if num1 <= num2 and num1 <= num3 and num1 <= num5:\n",
    "            second_smallest = num1\n",
    "            if num2 <= num3 and num2 <= num5:\n",
    "                third_smallest = num2\n",
    "                if num3 <= num5:\n",
    "                    fourth_smallest = num3\n",
    "                    largest = num5\n",
    "                else:\n",
    "                    fourth_smallest = num5\n",
    "                    largest = num3\n",
    "            else:\n",
    "                third_smallest = num3\n",
    "                fourth_smallest = num2\n",
    "                largest = num5\n",
    "        elif num2 <= num3 and num2 <= num5:\n",
    "            second_smallest = num2\n",
    "            if num1 <= num3 and num1 <= num5:\n",
    "                third_smallest = num1\n",
    "                if num3 <= num5:\n",
    "                    fourth_smallest = num3\n",
    "                    largest = num5\n",
    "                else:\n",
    "                    fourth_smallest = num5\n",
    "                    largest = num3\n",
    "            else:\n",
    "                third_smallest = num5\n",
    "                fourth_smallest = num1\n",
    "                largest = num3\n",
    "        else:\n",
    "            second_smallest = num3\n",
    "            third_smallest = num5\n",
    "            fourth_smallest = num1\n",
    "            largest = num2\n",
    "    print(\"Ascending order:\", smallest, second_smallest, third_smallest, fourth_smallest, largest)\n",
    "elif order == 'desc':\n",
    "    if num1 >= num2 and num1 >= num3 and num1 >= num4 and num1 >= num5:\n",
    "        largest = num1\n",
    "        if num2 >= num3 and num2 >= num4 and num2 >= num5:\n",
    "            fourth_largest = num2\n",
    "            if num3 >= num4 and num3 >= num5:\n",
    "                third_largest = num3\n",
    "                if num4 >= num5:\n",
    "                    second_largest = num4\n",
    "                    smallest = num5\n",
    "                else:\n",
    "                    second_largest = num5\n",
    "                    smallest = num4\n",
    "            else:\n",
    "                third_largest = num4\n",
    "                second_largest = num3\n",
    "                smallest = num5\n",
    "        elif num3 >= num4 and num3 >= num5:\n",
    "            fourth_largest = num3\n",
    "            if num2 >= num4 and num2 >= num5:\n",
    "                third_largest = num2\n",
    "                if num4 >= num5:\n",
    "                    second_largest = num4\n",
    "                    smallest = num5\n",
    "                else:\n",
    "                    second_largest = num5\n",
    "                    smallest = num4\n",
    "            else:\n",
    "                third_largest = num5\n",
    "                second_largest = num2\n",
    "                smallest = num4\n",
    "        else:\n",
    "            fourth_largest = num4\n",
    "            third_largest = num5\n",
    "            second_largest = num2\n",
    "            smallest = num3\n",
    "    elif num2 >= num3 and num2 >= num4 and num2 >= num5:\n",
    "        largest = num2\n",
    "        if num1 >= num3 and num1 >= num4 and num1 >= num5:\n",
    "            fourth_largest = num1\n",
    "            if num3 >= num4 and num3 >= num5:\n",
    "                third_largest = num3\n",
    "                if num4 >= num5:\n",
    "                    second_largest = num4\n",
    "                    smallest = num5\n",
    "                else:\n",
    "                    second_largest = num5\n",
    "                    smallest = num4\n",
    "            else:\n",
    "                third_largest = num4\n",
    "                second_largest = num3\n",
    "                smallest = num5\n",
    "        elif num3 >= num4 and num3 >= num5:\n",
    "            fourth_largest = num3\n",
    "            if num1 >= num4 and num1 >= num5:\n",
    "                third_largest = num1\n",
    "                if num4 >= num5:\n",
    "                    second_largest = num4\n",
    "                    smallest = num5\n",
    "                else:\n",
    "                    second_largest = num5\n",
    "                    smallest = num4\n",
    "            else:\n",
    "                third_largest = num5\n",
    "                second_largest = num1\n",
    "                smallest = num4\n",
    "        else:\n",
    "            fourth_largest = num4\n",
    "            third_largest = num5\n",
    "            second_largest = num1\n",
    "            smallest = num3\n",
    "    elif num3 >= num4 and num3 >= num5:\n",
    "        largest = num3\n",
    "        if num1 >= num2 and num1 >= num4 and num1 >= num5:\n",
    "            fourth_largest = num1\n",
    "            if num2 >= num4 and num2 >= num5:\n",
    "                third_largest = num2\n",
    "                if num4 >= num5:\n",
    "                    second_largest = num4\n",
    "                    smallest = num5\n",
    "                else:\n",
    "                    second_largest = num5\n",
    "                    smallest = num4\n",
    "            else:\n",
    "                third_largest = num4\n",
    "                second_largest = num2\n",
    "                smallest = num5\n",
    "        elif num2 >= num4 and num2 >= num5:\n",
    "            fourth_largest = num2\n",
    "            if num1 >= num4 and num1 >= num5:\n",
    "                third_largest = num1\n",
    "                if num4 >= num5:\n",
    "                    second_largest = num4\n",
    "                    smallest = num5\n",
    "                else:\n",
    "                    second_largest = num5\n",
    "                    smallest = num4\n",
    "            else:\n",
    "                third_largest = num5\n",
    "                second_largest = num1\n",
    "                smallest = num4\n",
    "        else:\n",
    "            fourth_largest = num4\n",
    "            third_largest = num5\n",
    "            second_largest = num1\n",
    "            smallest = num2\n",
    "    else:\n",
    "        largest = num4\n",
    "        if num1 >= num2 and num1 >= num3 and num1 >= num5:\n",
    "            fourth_largest = num1\n",
    "            if num2 >= num3 and num2 >= num5:\n",
    "                third_largest = num2\n",
    "                if num3 >= num5:\n",
    "                    second_largest = num3\n",
    "                    smallest = num5\n",
    "                else:\n",
    "                    second_largest = num5\n",
    "                    smallest = num3\n",
    "            else:\n",
    "                third_largest = num3\n",
    "                second_largest = num2\n",
    "                smallest = num5\n",
    "        elif num2 >= num3 and num2 >= num5:\n",
    "            fourth_largest = num2\n",
    "            if num1 >= num3 and num1 >= num5:\n",
    "                third_largest = num1\n",
    "                if num3 >= num5:\n",
    "                    second_largest = num3\n",
    "                    smallest = num5\n",
    "                else:\n",
    "                    second_largest = num5\n",
    "                    smallest = num3\n",
    "            else:\n",
    "                third_largest = num5\n",
    "                second_largest = num1\n",
    "                smallest = num3\n",
    "        else:\n",
    "            fourth_largest = num3\n",
    "            third_largest = num5\n",
    "            second_largest = num1\n",
    "            smallest = num2\n",
    "    print(\"Descending order:\", largest, fourth_largest, third_largest, second_largest, smallest)\n",
    "else:\n",
    "    print(\"Invalid input! Please enter 'asc' or 'desc' for the order.\")"
   ]
  }
 ],
 "metadata": {
  "kernelspec": {
   "display_name": "base",
   "language": "python",
   "name": "python3"
  },
  "language_info": {
   "codemirror_mode": {
    "name": "ipython",
    "version": 3
   },
   "file_extension": ".py",
   "mimetype": "text/x-python",
   "name": "python",
   "nbconvert_exporter": "python",
   "pygments_lexer": "ipython3",
   "version": "3.10.9"
  },
  "orig_nbformat": 4
 },
 "nbformat": 4,
 "nbformat_minor": 2
}
