{
 "cells": [
  {
   "cell_type": "markdown",
   "metadata": {},
   "source": [
    "### Importando a Biblioteca do Pandas"
   ]
  },
  {
   "cell_type": "code",
   "execution_count": 2,
   "metadata": {},
   "outputs": [],
   "source": [
    "# importando a biblioteca\n",
    "\n",
    "import pandas as pd"
   ]
  },
  {
   "cell_type": "code",
   "execution_count": 2,
   "metadata": {},
   "outputs": [
    {
     "name": "stdout",
     "output_type": "stream",
     "text": [
      "    cars  passageiros\n",
      "0    BMW            3\n",
      "1  Volvo            7\n",
      "2   Ford            2\n"
     ]
    }
   ],
   "source": [
    "# Exemplo\n",
    "\n",
    "mydataset = {\n",
    "    'cars':['BMW','Volvo', 'Ford'],\n",
    "    'passageiros': [3,7,2]\n",
    "}\n",
    "\n",
    "# Converter Dicionario em Pandas DATAFRAME\n",
    "\n",
    "df = pd.DataFrame(mydataset)\n",
    "\n",
    "print(df)"
   ]
  },
  {
   "cell_type": "markdown",
   "metadata": {},
   "source": [
    "# Verificando a versão do Pandas"
   ]
  },
  {
   "cell_type": "code",
   "execution_count": 3,
   "metadata": {},
   "outputs": [
    {
     "name": "stdout",
     "output_type": "stream",
     "text": [
      "1.5.3\n"
     ]
    }
   ],
   "source": [
    "print(pd.__version__)"
   ]
  },
  {
   "cell_type": "markdown",
   "metadata": {},
   "source": [
    "### Seção 01 - Trabalhando com Pandas SERIES\n",
    "\n",
    "Uma série em Pandas é como uma coluna de uma tabela, ou seja, uma matriz de apenas uma coluna."
   ]
  },
  {
   "cell_type": "code",
   "execution_count": 4,
   "metadata": {},
   "outputs": [
    {
     "name": "stdout",
     "output_type": "stream",
     "text": [
      "0    15\n",
      "1    20\n",
      "2    25\n",
      "3    30\n",
      "4    40\n",
      "5    50\n",
      "6    60\n",
      "dtype: int64\n"
     ]
    }
   ],
   "source": [
    "# Utilizando o comando pd.Series()\n",
    "\n",
    "idades = pd.Series([15,20,25,30,40,50,60])\n",
    "print(idades)"
   ]
  },
  {
   "cell_type": "code",
   "execution_count": 5,
   "metadata": {},
   "outputs": [
    {
     "data": {
      "text/plain": [
       "RangeIndex(start=0, stop=7, step=1)"
      ]
     },
     "execution_count": 5,
     "metadata": {},
     "output_type": "execute_result"
    }
   ],
   "source": [
    "# Retornar apenas os indices dos registros\n",
    "\n",
    "idades.index"
   ]
  },
  {
   "cell_type": "code",
   "execution_count": 6,
   "metadata": {},
   "outputs": [
    {
     "name": "stdout",
     "output_type": "stream",
     "text": [
      "Ana          15\n",
      "Amanda       20\n",
      "Jaqueline    25\n",
      "Larissa      30\n",
      "Roberto      40\n",
      "João         50\n",
      "Alan         60\n",
      "dtype: int64\n"
     ]
    }
   ],
   "source": [
    "# Alterando os indices\n",
    "\n",
    "indice_novo = ['Ana', 'Amanda','Jaqueline', 'Larissa', 'Roberto', 'João','Alan']\n",
    "\n",
    "idades_list = [15,20,25,30,40,50,60]\n",
    "\n",
    "nova_serie = pd.Series(idades_list, index = indice_novo)\n",
    "\n",
    "print(nova_serie)"
   ]
  },
  {
   "cell_type": "markdown",
   "metadata": {},
   "source": [
    "### Acessando informações de uma Série"
   ]
  },
  {
   "cell_type": "code",
   "execution_count": 1,
   "metadata": {},
   "outputs": [
    {
     "ename": "NameError",
     "evalue": "name 'nova_serie' is not defined",
     "output_type": "error",
     "traceback": [
      "\u001b[1;31m---------------------------------------------------------------------------\u001b[0m",
      "\u001b[1;31mNameError\u001b[0m                                 Traceback (most recent call last)",
      "Cell \u001b[1;32mIn[1], line 1\u001b[0m\n\u001b[1;32m----> 1\u001b[0m \u001b[39mprint\u001b[39m(nova_serie[\u001b[39m'\u001b[39m\u001b[39mAna\u001b[39m\u001b[39m'\u001b[39m])\n",
      "\u001b[1;31mNameError\u001b[0m: name 'nova_serie' is not defined"
     ]
    }
   ],
   "source": [
    "print(nova_serie['Ana'])"
   ]
  }
 ],
 "metadata": {
  "kernelspec": {
   "display_name": "base",
   "language": "python",
   "name": "python3"
  },
  "language_info": {
   "codemirror_mode": {
    "name": "ipython",
    "version": 3
   },
   "file_extension": ".py",
   "mimetype": "text/x-python",
   "name": "python",
   "nbconvert_exporter": "python",
   "pygments_lexer": "ipython3",
   "version": "3.10.9"
  },
  "orig_nbformat": 4
 },
 "nbformat": 4,
 "nbformat_minor": 2
}
