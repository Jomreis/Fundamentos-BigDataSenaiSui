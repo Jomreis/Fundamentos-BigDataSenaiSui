{
 "cells": [
  {
   "cell_type": "code",
   "execution_count": null,
   "id": "f434256e",
   "metadata": {},
   "outputs": [],
   "source": [
    "Aula 2 -Estrutura Condicional\n"
   ]
  },
  {
   "cell_type": "code",
   "execution_count": null,
   "id": "016cf658",
   "metadata": {},
   "outputs": [],
   "source": []
  },
  {
   "cell_type": "markdown",
   "id": "4438e8fc",
   "metadata": {},
   "source": [
    "Exercício 01\n",
    "Crie uma variável chamada \"idade\" e atribua um valor inteiro a ela. \n",
    "Verifique se a idade é maior ou igual a 18 e imprima \"Maior de idade\" ou \"Menor de \n",
    "idade\" de acordo com a condição."
   ]
  },
  {
   "cell_type": "markdown",
   "id": "610c7b03",
   "metadata": {},
   "source": []
  },
  {
   "cell_type": "markdown",
   "id": "22d3eb43",
   "metadata": {},
   "source": [
    "Exercício 02\n",
    "Crie uma variável chamada \"número\" e atribua um valor inteiro a ela. \n",
    "Verifique se o número é positivo, negativo ou zero e imprima a mensagem \n",
    "correspondente."
   ]
  },
  {
   "cell_type": "code",
   "execution_count": null,
   "id": "60f28b9d",
   "metadata": {},
   "outputs": [],
   "source": [
    "num=20\n",
    "\n",
    "#Se o número for maior que ZERO\n",
    "if num>0:\n",
    "    print('Positivo')\n",
    "else:\n",
    "    print('Negativo')\n",
    "    "
   ]
  },
  {
   "cell_type": "code",
   "execution_count": null,
   "id": "23d4c273",
   "metadata": {},
   "outputs": [],
   "source": [
    "#Verificar se o número é positivo, negativo ou nulo\n",
    "\n",
    "num=10\n",
    "\n",
    "if num>0:\n",
    "    print('Positivo')\n",
    "elif num<0:\n",
    "    print('negativo')\n",
    "else:\n",
    "    print('Nulo')\n",
    "    "
   ]
  },
  {
   "cell_type": "markdown",
   "id": "aaf7b3b9",
   "metadata": {},
   "source": [
    "    ###Exercício 03\n",
    "Crie duas variáveis, \"nota1\" e \"nota2\", e atribua valores numéricos a elas. \n",
    "Verifique se a média das notas é maior ou igual a 7 e imprima \"Aprovado\" ou \n",
    "\"Reprovado\" de acordo com a condição.\n"
   ]
  },
  {
   "cell_type": "code",
   "execution_count": 1,
   "id": "6e90db2b",
   "metadata": {},
   "outputs": [
    {
     "ename": "SyntaxError",
     "evalue": "expected ':' (2675386553.py, line 13)",
     "output_type": "error",
     "traceback": [
      "\u001b[1;36m  Cell \u001b[1;32mIn[1], line 13\u001b[1;36m\u001b[0m\n\u001b[1;33m    else\u001b[0m\n\u001b[1;37m        ^\u001b[0m\n\u001b[1;31mSyntaxError\u001b[0m\u001b[1;31m:\u001b[0m expected ':'\n"
     ]
    }
   ],
   "source": [
    "nota01 = 5\n",
    "nota02 = 10\n",
    "\n",
    "nota01=input('Digite a nota01:')\n",
    "nota02=input('Digite a nota02:')\n",
    "\n",
    "media=(nota01 + nota02)/2\n",
    "#Converter os dados para floot(Numero Decimal)\n",
    "nota01= floot(nota1)\n",
    "\n",
    "if media>=7:\n",
    "    print('Aprovado')\n",
    "else\n",
    "    print('Reprovado')\n"
   ]
  },
  {
   "cell_type": "markdown",
   "id": "0d4b9f2f",
   "metadata": {},
   "source": [
    "    ###Exercício 04 \n",
    "Crie uma variável chamada \"idade\" e atribua um valor inteiro a ela. \n",
    "Verifique se a idade está dentro do intervalo de 18 a 30 (inclusive) e imprima a \n",
    "mensagem \"Idade válida\" ou \"Idade inválida\" de acordo com a condição.\n",
    "\n"
   ]
  },
  {
   "cell_type": "code",
   "execution_count": 2,
   "id": "70131d64",
   "metadata": {},
   "outputs": [
    {
     "name": "stdout",
     "output_type": "stream",
     "text": [
      "Digite sua idade45\n",
      "Idade inválida\n"
     ]
    }
   ],
   "source": [
    "idade = input('Digite sua idade')\n",
    "\n",
    "#Converter em valor inteiro\n",
    "idade = int(idade)\n",
    "\n",
    "if idade >= 18 and idade <= 30:\n",
    "    print('Idade válida')\n",
    "else:\n",
    "    print('Idade inválida')"
   ]
  },
  {
   "cell_type": "markdown",
   "id": "d91b5665",
   "metadata": {},
   "source": [
    "    ###Exercício 05\n",
    "Crie uma variável chamada \"numero\" e atribua um valor inteiro a ela. \n",
    "Verifique se o número é par ou ímpar e imprima a mensagem correspondente.\n"
   ]
  },
  {
   "cell_type": "code",
   "execution_count": 5,
   "id": "58cb6e85",
   "metadata": {},
   "outputs": [
    {
     "ename": "SyntaxError",
     "evalue": "invalid syntax (2158278050.py, line 4)",
     "output_type": "error",
     "traceback": [
      "\u001b[1;36m  Cell \u001b[1;32mIn[5], line 4\u001b[1;36m\u001b[0m\n\u001b[1;33m    IF NUMERO % 2 == 0:\u001b[0m\n\u001b[1;37m       ^\u001b[0m\n\u001b[1;31mSyntaxError\u001b[0m\u001b[1;31m:\u001b[0m invalid syntax\n"
     ]
    }
   ],
   "source": [
    "numero = imput('Digite um número')\n",
    "numero = int(numero) # CONVERTER EM NUMERO INTEIRO\n"
   ]
  },
  {
   "cell_type": "markdown",
   "id": "7f48ad4e",
   "metadata": {},
   "source": [
    "### Exercício 06\n",
    "Crie uma variável chamada \"horario\" e atribua um valor inteiro \n",
    "representando a hora do dia (em formato 24 horas). Verifique se o horário está dentro \n",
    "do período da manhã (das 6h às 12h), da tarde (das 12h às 18h) ou da noite (das 18h \n",
    "às 23h) e imprima a mensagem correspondente."
   ]
  },
  {
   "cell_type": "code",
   "execution_count": 8,
   "id": "274f4060",
   "metadata": {},
   "outputs": [
    {
     "name": "stdout",
     "output_type": "stream",
     "text": [
      "Digite um horário2\n",
      "Boa Noite!\n"
     ]
    }
   ],
   "source": [
    "horario = input('Digite um horário')\n",
    "horario = int(horario)\n",
    "\n",
    "if horario >= 6 and horario < 12:\n",
    "    print('Bom dia!')\n",
    "elif horario >= 12 and horario < 18:\n",
    "    print('Boa Tarde!')\n",
    "else:\n",
    "    print('Boa Noite!')"
   ]
  },
  {
   "cell_type": "code",
   "execution_count": null,
   "id": "5a0ff45e",
   "metadata": {},
   "outputs": [],
   "source": [
    "horario = input('Digite um horário')\n",
    "horario = int(horario)\n",
    "\n",
    "if horario >= 6 and horario < 12:\n",
    "    print('Bom dia!')\n",
    "elif horario >= 12 and horario"
   ]
  },
  {
   "cell_type": "markdown",
   "id": "1f050046",
   "metadata": {},
   "source": [
    "### Exercício 07\n",
    "Crie uma variável chamada \"peso\" e atribua um valor numérico a ela. \n",
    "Verifique se o peso está dentro do intervalo de 50 a 100 (inclusive) e imprima a \n",
    "mensagem \"Peso válido\" ou \"Peso inválido\" de acordo com a condição."
   ]
  },
  {
   "cell_type": "code",
   "execution_count": null,
   "id": "f81d985d",
   "metadata": {},
   "outputs": [],
   "source": []
  },
  {
   "cell_type": "markdown",
   "id": "c3fe15b3",
   "metadata": {},
   "source": [
    "### Exercício 11\n",
    "Faça um Programa que peça dois números e imprima o maior deles."
   ]
  },
  {
   "cell_type": "code",
   "execution_count": null,
   "id": "85e3cee1",
   "metadata": {},
   "outputs": [],
   "source": [
    "num1 = input('Digite o primeiro numero')\n",
    "num2 = input('Digite o segundo numero')\n",
    "\n",
    "num1 = int(num1)\n",
    "num2 = int(num2)\n",
    "\n",
    "if num1 > num2:\n",
    "    print(f'O maior valor é{num1} e o menor é{num2}.)\n",
    "else:\n",
    "    print(f'O maior valor é {num2} e o menor é {num1})\n",
    "          "
   ]
  },
  {
   "cell_type": "markdown",
   "id": "31b6d9b3",
   "metadata": {},
   "source": [
    "### Exercício 16 - Faça um Programa que leia três números e mostre o maior deles."
   ]
  },
  {
   "cell_type": "code",
   "execution_count": null,
   "id": "5b61d9c9",
   "metadata": {},
   "outputs": [],
   "source": [
    "num1 = input('Digite o primeiro numero')\n",
    "num2 = input('Digite o segundo numero')\n",
    "num3 = input('Digite o tyerceiro numero')\n",
    "\n",
    "num1 = int(num1)\n",
    "num2 = int(num2)\n",
    "num3 = int(num3)\n",
    "\n",
    "if num1 > num2 > num3:\n",
    "    \n"
   ]
  }
 ],
 "metadata": {
  "kernelspec": {
   "display_name": "Python 3 (ipykernel)",
   "language": "python",
   "name": "python3"
  },
  "language_info": {
   "codemirror_mode": {
    "name": "ipython",
    "version": 3
   },
   "file_extension": ".py",
   "mimetype": "text/x-python",
   "name": "python",
   "nbconvert_exporter": "python",
   "pygments_lexer": "ipython3",
   "version": "3.10.9"
  }
 },
 "nbformat": 4,
 "nbformat_minor": 5
}
