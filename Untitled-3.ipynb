{
 "cells": [
  {
   "cell_type": "markdown",
   "metadata": {},
   "source": [
    "### \n",
    "c) Repita esse procedimento para os campos Categoria, Segmento,\n",
    "Fabricante, Cidade e Estado. Reescreva todo o código para cada\n",
    "caso, com o objetivode exercitar a sintaxe dos comandos."
   ]
  },
  {
   "cell_type": "code",
   "execution_count": 5,
   "metadata": {},
   "outputs": [
    {
     "ename": "AttributeError",
     "evalue": "'list' object has no attribute 'drop_duplicates'",
     "output_type": "error",
     "traceback": [
      "\u001b[1;31m---------------------------------------------------------------------------\u001b[0m",
      "\u001b[1;31mAttributeError\u001b[0m                            Traceback (most recent call last)",
      "\u001b[1;32mUntitled-3.ipynb Cell 2\u001b[0m line \u001b[0;36m3\n\u001b[0;32m      <a href='vscode-notebook-cell:Untitled-3.ipynb?jupyter-notebook#W2sdW50aXRsZWQ%3D?line=0'>1</a>\u001b[0m \u001b[39m# Selecione apenas a coluna categorias e remova as duplicadas\u001b[39;00m\n\u001b[1;32m----> <a href='vscode-notebook-cell:Untitled-3.ipynb?jupyter-notebook#W2sdW50aXRsZWQ%3D?line=2'>3</a>\u001b[0m df_Categoria \u001b[39m=\u001b[39m [\u001b[39m'\u001b[39;49m\u001b[39mCategoria\u001b[39;49m\u001b[39m'\u001b[39;49m]\u001b[39m.\u001b[39;49mdrop_duplicates()\n\u001b[0;32m      <a href='vscode-notebook-cell:Untitled-3.ipynb?jupyter-notebook#W2sdW50aXRsZWQ%3D?line=4'>5</a>\u001b[0m \u001b[39m# Converter o Pandas Series em uma lista\u001b[39;00m\n\u001b[0;32m      <a href='vscode-notebook-cell:Untitled-3.ipynb?jupyter-notebook#W2sdW50aXRsZWQ%3D?line=6'>7</a>\u001b[0m lista_Categoria \u001b[39m=\u001b[39m df_Categoria\u001b[39m.\u001b[39mtolist()\n",
      "\u001b[1;31mAttributeError\u001b[0m: 'list' object has no attribute 'drop_duplicates'"
     ]
    }
   ],
   "source": [
    "# Selecione apenas a coluna categorias e remova as duplicadas\n",
    "\n",
    "df_Categoria = ['Categoria'].drop_duplicates()\n",
    "\n",
    "# Converter o Pandas Series em uma lista\n",
    "\n",
    "lista_Categoria = df_Categoria.tolist()\n",
    "\n",
    "lista_Categoria"
   ]
  },
  {
   "cell_type": "code",
   "execution_count": null,
   "metadata": {},
   "outputs": [],
   "source": [
    "# Estrutura para gerar os arquivos de forma automatica.\n",
    "\n",
    "#for vendedores in lista_categoria:\n",
    "\n",
    "df_final = dados[dados['categoria'] == 'Aline Sutter']\n",
    "\n",
    "path_New = path \n",
    "\n",
    "# Salvar o arquivo na pasta\n",
    "\n",
    "df_final.to_excel(path_New + 'Aline.xlsx',index = False)"
   ]
  }
 ],
 "metadata": {
  "kernelspec": {
   "display_name": "base",
   "language": "python",
   "name": "python3"
  },
  "language_info": {
   "codemirror_mode": {
    "name": "ipython",
    "version": 3
   },
   "file_extension": ".py",
   "mimetype": "text/x-python",
   "name": "python",
   "nbconvert_exporter": "python",
   "pygments_lexer": "ipython3",
   "version": "3.10.9"
  },
  "orig_nbformat": 4
 },
 "nbformat": 4,
 "nbformat_minor": 2
}
