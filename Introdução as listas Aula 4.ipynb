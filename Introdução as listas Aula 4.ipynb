{
 "cells": [
  {
   "cell_type": "markdown",
   "metadata": {},
   "source": [
    "## Trabalhando com Listas"
   ]
  },
  {
   "cell_type": "code",
   "execution_count": 3,
   "metadata": {},
   "outputs": [
    {
     "name": "stdout",
     "output_type": "stream",
     "text": [
      "Hello, baby!\n"
     ]
    }
   ],
   "source": [
    "print('Hello, baby!')"
   ]
  },
  {
   "cell_type": "code",
   "execution_count": 4,
   "metadata": {},
   "outputs": [],
   "source": [
    "# Criando uma lista\n",
    "\n",
    "alunos = ['Amanda','Ana','Aurineide','Perclides']\n",
    "notas = [10,20,30,40]"
   ]
  },
  {
   "cell_type": "code",
   "execution_count": 8,
   "metadata": {},
   "outputs": [
    {
     "data": {
      "text/plain": [
       "'Aurineide'"
      ]
     },
     "execution_count": 8,
     "metadata": {},
     "output_type": "execute_result"
    }
   ],
   "source": [
    "alunos[2]"
   ]
  },
  {
   "cell_type": "code",
   "execution_count": 1,
   "metadata": {},
   "outputs": [
    {
     "ename": "SyntaxError",
     "evalue": "invalid syntax. Perhaps you forgot a comma? (2016897706.py, line 6)",
     "output_type": "error",
     "traceback": [
      "\u001b[1;36m  Cell \u001b[1;32mIn[1], line 6\u001b[1;36m\u001b[0m\n\u001b[1;33m    print ('O time que esta na 3º posição é:',times{2})\u001b[0m\n\u001b[1;37m                                              ^\u001b[0m\n\u001b[1;31mSyntaxError\u001b[0m\u001b[1;31m:\u001b[0m invalid syntax. Perhaps you forgot a comma?\n"
     ]
    }
   ],
   "source": [
    "# Crie uma lista com nome de times\n",
    "\n",
    "times = ['Palmeiras','São Paulo','Coritiba','Santos']\n",
    "\n",
    "# Acessar o time que esta na 3° Posição.\n",
    "print ('O time que esta na 3º posição é:',times{2})\n",
    "\n",
    "# Acessar o time que esta na 4° Posição.\n",
    "print ('O time que esta na 4º posição é:',times{3})\n",
    "\n",
    "# Acessar o time que esta na 1° Posição.\n",
    "print ('O time que esta na 1º posição é:',times{0})\n"
   ]
  },
  {
   "cell_type": "markdown",
   "metadata": {},
   "source": [
    "# 3. Crie uma lista com duas listas de 3 times de futebol, cada uma de uma divisão diferente\n"
   ]
  },
  {
   "cell_type": "code",
   "execution_count": 16,
   "metadata": {},
   "outputs": [
    {
     "data": {
      "text/plain": [
       "'Santos'"
      ]
     },
     "execution_count": 16,
     "metadata": {},
     "output_type": "execute_result"
    }
   ],
   "source": [
    "# Criando listas em listas\n",
    "\n",
    "campeonato = [['Palmeiras','Santos','Coritiba','São Paulo'],['Corinthians','São Caetano','Bahia','Sport']]\n",
    "\n",
    "# Acessar os elementos\n",
    "\n",
    "campeonato[0][1]"
   ]
  },
  {
   "cell_type": "code",
   "execution_count": 21,
   "metadata": {},
   "outputs": [
    {
     "ename": "SyntaxError",
     "evalue": "invalid syntax. Perhaps you forgot a comma? (988034679.py, line 5)",
     "output_type": "error",
     "traceback": [
      "\u001b[1;36m  Cell \u001b[1;32mIn[21], line 5\u001b[1;36m\u001b[0m\n\u001b[1;33m    print('primeira lista:', campeonato{0})\u001b[0m\n\u001b[1;37m                             ^\u001b[0m\n\u001b[1;31mSyntaxError\u001b[0m\u001b[1;31m:\u001b[0m invalid syntax. Perhaps you forgot a comma?\n"
     ]
    }
   ],
   "source": [
    "# Retornar todos os elementos da lista\n",
    "print('Os elementos da lista são:', campeonato)\n",
    "\n",
    "# Retornar a primeira lista\n",
    "print('primeira lista:', campeonato{0})\n",
    "\n",
    "# Retornar a segunda lista\n",
    "print('segunda lista:', campeonato{1})\n",
    "\n",
    "# Retornar o terceiro elemento da primeira lista\n",
    "print('O terceiro elemento da 1º lista é:', campeonato{0}{2})"
   ]
  }
 ],
 "metadata": {
  "kernelspec": {
   "display_name": "base",
   "language": "python",
   "name": "python3"
  },
  "language_info": {
   "codemirror_mode": {
    "name": "ipython",
    "version": 3
   },
   "file_extension": ".py",
   "mimetype": "text/x-python",
   "name": "python",
   "nbconvert_exporter": "python",
   "pygments_lexer": "ipython3",
   "version": "3.10.9"
  },
  "orig_nbformat": 4
 },
 "nbformat": 4,
 "nbformat_minor": 2
}
