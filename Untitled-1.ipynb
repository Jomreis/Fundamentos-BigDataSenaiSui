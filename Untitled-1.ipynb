{
 "cells": [
  {
   "cell_type": "markdown",
   "metadata": {},
   "source": [
    "### Exercicio 02- Manipulando dados  com Pandas\n",
    "\n",
    "arquivo: Vendas .xlsx\n",
    "\n",
    "A) Crie um programa em pandas para ler o arquivo em Excel imobiliaria xlsx"
   ]
  },
  {
   "cell_type": "code",
   "execution_count": 2,
   "metadata": {},
   "outputs": [],
   "source": [
    "import pandas as pd\n",
    "\n",
    "caminho = \"C:\\\\Users\\\\FIC\\\\Documents\\\\Jose Mauro_Python\\\\Arquivos\\\\\"\n",
    "arquivo = 'Imobiliária.xlsx'\n",
    "\n",
    "df = pd.read_excel(caminho + arquivo, sheet_name= 'Base')"
   ]
  },
  {
   "cell_type": "code",
   "execution_count": 3,
   "metadata": {},
   "outputs": [
    {
     "data": {
      "text/html": [
       "<div>\n",
       "<style scoped>\n",
       "    .dataframe tbody tr th:only-of-type {\n",
       "        vertical-align: middle;\n",
       "    }\n",
       "\n",
       "    .dataframe tbody tr th {\n",
       "        vertical-align: top;\n",
       "    }\n",
       "\n",
       "    .dataframe thead th {\n",
       "        text-align: right;\n",
       "    }\n",
       "</style>\n",
       "<table border=\"1\" class=\"dataframe\">\n",
       "  <thead>\n",
       "    <tr style=\"text-align: right;\">\n",
       "      <th></th>\n",
       "      <th>Coluna 1</th>\n",
       "      <th>Coluna 2</th>\n",
       "      <th>Coluna 3</th>\n",
       "      <th>Coluna 4</th>\n",
       "      <th>Coluna 5</th>\n",
       "      <th>Coluna 6</th>\n",
       "      <th>Coluna 7</th>\n",
       "      <th>Coluna 8</th>\n",
       "      <th>Coluna 8.1</th>\n",
       "      <th>Coluna 10</th>\n",
       "    </tr>\n",
       "  </thead>\n",
       "  <tbody>\n",
       "    <tr>\n",
       "      <th>0</th>\n",
       "      <td>Centro</td>\n",
       "      <td>Simone</td>\n",
       "      <td>2005-10-08</td>\n",
       "      <td>Apartamento</td>\n",
       "      <td>102.5</td>\n",
       "      <td>2</td>\n",
       "      <td>2</td>\n",
       "      <td>Sim</td>\n",
       "      <td>235500</td>\n",
       "      <td>3532.5</td>\n",
       "    </tr>\n",
       "    <tr>\n",
       "      <th>1</th>\n",
       "      <td>Noroeste</td>\n",
       "      <td>Simone</td>\n",
       "      <td>2005-10-08</td>\n",
       "      <td>Apartamento</td>\n",
       "      <td>199.5</td>\n",
       "      <td>4</td>\n",
       "      <td>4</td>\n",
       "      <td>Não</td>\n",
       "      <td>377700</td>\n",
       "      <td>5665.5</td>\n",
       "    </tr>\n",
       "    <tr>\n",
       "      <th>2</th>\n",
       "      <td>Norte</td>\n",
       "      <td>Roberto</td>\n",
       "      <td>2005-10-12</td>\n",
       "      <td>Casa</td>\n",
       "      <td>145.5</td>\n",
       "      <td>2</td>\n",
       "      <td>2</td>\n",
       "      <td>Não</td>\n",
       "      <td>232500</td>\n",
       "      <td>3487.5</td>\n",
       "    </tr>\n",
       "    <tr>\n",
       "      <th>3</th>\n",
       "      <td>Sudeste</td>\n",
       "      <td>Simone</td>\n",
       "      <td>2005-10-14</td>\n",
       "      <td>Apartamento</td>\n",
       "      <td>153.5</td>\n",
       "      <td>3</td>\n",
       "      <td>2</td>\n",
       "      <td>Não</td>\n",
       "      <td>289100</td>\n",
       "      <td>4336.5</td>\n",
       "    </tr>\n",
       "    <tr>\n",
       "      <th>4</th>\n",
       "      <td>Noroeste</td>\n",
       "      <td>Cristina</td>\n",
       "      <td>2005-10-16</td>\n",
       "      <td>Apartamento</td>\n",
       "      <td>93.0</td>\n",
       "      <td>2</td>\n",
       "      <td>2</td>\n",
       "      <td>Sim</td>\n",
       "      <td>235400</td>\n",
       "      <td>3531.0</td>\n",
       "    </tr>\n",
       "  </tbody>\n",
       "</table>\n",
       "</div>"
      ],
      "text/plain": [
       "   Coluna 1  Coluna 2   Coluna 3     Coluna 4  Coluna 5  Coluna 6  Coluna 7  \\\n",
       "0    Centro    Simone 2005-10-08  Apartamento     102.5         2         2   \n",
       "1  Noroeste    Simone 2005-10-08  Apartamento     199.5         4         4   \n",
       "2     Norte   Roberto 2005-10-12         Casa     145.5         2         2   \n",
       "3   Sudeste    Simone 2005-10-14  Apartamento     153.5         3         2   \n",
       "4  Noroeste  Cristina 2005-10-16  Apartamento      93.0         2         2   \n",
       "\n",
       "  Coluna 8  Coluna 8.1  Coluna 10  \n",
       "0      Sim      235500     3532.5  \n",
       "1      Não      377700     5665.5  \n",
       "2      Não      232500     3487.5  \n",
       "3      Não      289100     4336.5  \n",
       "4      Sim      235400     3531.0  "
      ]
     },
     "execution_count": 3,
     "metadata": {},
     "output_type": "execute_result"
    }
   ],
   "source": [
    "df.head()"
   ]
  },
  {
   "cell_type": "markdown",
   "metadata": {},
   "source": [
    "### Visualizar as ultimas linhas"
   ]
  },
  {
   "cell_type": "code",
   "execution_count": 4,
   "metadata": {},
   "outputs": [
    {
     "data": {
      "text/plain": [
       "<bound method NDFrame.tail of       Coluna 1     Coluna 2   Coluna 3     Coluna 4  Coluna 5  Coluna 6  \\\n",
       "0       Centro       Simone 2005-10-08  Apartamento     102.5         2   \n",
       "1     Noroeste       Simone 2005-10-08  Apartamento     199.5         4   \n",
       "2        Norte      Roberto 2005-10-12         Casa     145.5         2   \n",
       "3      Sudeste       Simone 2005-10-14  Apartamento     153.5         3   \n",
       "4     Noroeste     Cristina 2005-10-16  Apartamento      93.0         2   \n",
       "...        ...          ...        ...          ...       ...       ...   \n",
       "1112   Sudeste     Cristina 2011-03-19  Apartamento      87.5         2   \n",
       "1113   Sudeste       Simone 2011-03-20  Apartamento      74.5         2   \n",
       "1114     Norte  João Carlos 2011-03-21  Apartamento     192.0         4   \n",
       "1115     Leste       Simone 2011-03-27  Apartamento      42.0         1   \n",
       "1116     Oeste       Simone 2011-03-28  Apartamento     100.5         2   \n",
       "\n",
       "      Coluna 7 Coluna 8  Coluna 8.1  Coluna 10  \n",
       "0            2      Sim      235500     3532.5  \n",
       "1            4      Não      377700     5665.5  \n",
       "2            2      Não      232500     3487.5  \n",
       "3            2      Não      289100     4336.5  \n",
       "4            2      Sim      235400     3531.0  \n",
       "...        ...      ...         ...        ...  \n",
       "1112         0      Não      221500     3322.5  \n",
       "1113         2      Não      224400     3366.0  \n",
       "1114         4      Não      361000     5415.0  \n",
       "1115         1      Sim      167900     2518.5  \n",
       "1116         2      Sim      227600     3414.0  \n",
       "\n",
       "[1117 rows x 10 columns]>"
      ]
     },
     "execution_count": 4,
     "metadata": {},
     "output_type": "execute_result"
    }
   ],
   "source": [
    "df.tail"
   ]
  },
  {
   "cell_type": "markdown",
   "metadata": {},
   "source": [
    "### Escreva um programa para renomear o cabeçalho da tabela com os seguintes nomes:"
   ]
  },
  {
   "cell_type": "code",
   "execution_count": 8,
   "metadata": {},
   "outputs": [
    {
     "data": {
      "text/html": [
       "<div>\n",
       "<style scoped>\n",
       "    .dataframe tbody tr th:only-of-type {\n",
       "        vertical-align: middle;\n",
       "    }\n",
       "\n",
       "    .dataframe tbody tr th {\n",
       "        vertical-align: top;\n",
       "    }\n",
       "\n",
       "    .dataframe thead th {\n",
       "        text-align: right;\n",
       "    }\n",
       "</style>\n",
       "<table border=\"1\" class=\"dataframe\">\n",
       "  <thead>\n",
       "    <tr style=\"text-align: right;\">\n",
       "      <th></th>\n",
       "      <th>filial</th>\n",
       "      <th>vendedor</th>\n",
       "      <th>data</th>\n",
       "      <th>tipo</th>\n",
       "      <th>area</th>\n",
       "      <th>dorms</th>\n",
       "      <th>garag</th>\n",
       "      <th>piscina</th>\n",
       "      <th>preco</th>\n",
       "      <th>comissao</th>\n",
       "    </tr>\n",
       "  </thead>\n",
       "  <tbody>\n",
       "    <tr>\n",
       "      <th>0</th>\n",
       "      <td>Centro</td>\n",
       "      <td>Simone</td>\n",
       "      <td>2005-10-08</td>\n",
       "      <td>Apartamento</td>\n",
       "      <td>102.5</td>\n",
       "      <td>2</td>\n",
       "      <td>2</td>\n",
       "      <td>Sim</td>\n",
       "      <td>235500</td>\n",
       "      <td>3532.5</td>\n",
       "    </tr>\n",
       "    <tr>\n",
       "      <th>1</th>\n",
       "      <td>Noroeste</td>\n",
       "      <td>Simone</td>\n",
       "      <td>2005-10-08</td>\n",
       "      <td>Apartamento</td>\n",
       "      <td>199.5</td>\n",
       "      <td>4</td>\n",
       "      <td>4</td>\n",
       "      <td>Não</td>\n",
       "      <td>377700</td>\n",
       "      <td>5665.5</td>\n",
       "    </tr>\n",
       "    <tr>\n",
       "      <th>2</th>\n",
       "      <td>Norte</td>\n",
       "      <td>Roberto</td>\n",
       "      <td>2005-10-12</td>\n",
       "      <td>Casa</td>\n",
       "      <td>145.5</td>\n",
       "      <td>2</td>\n",
       "      <td>2</td>\n",
       "      <td>Não</td>\n",
       "      <td>232500</td>\n",
       "      <td>3487.5</td>\n",
       "    </tr>\n",
       "    <tr>\n",
       "      <th>3</th>\n",
       "      <td>Sudeste</td>\n",
       "      <td>Simone</td>\n",
       "      <td>2005-10-14</td>\n",
       "      <td>Apartamento</td>\n",
       "      <td>153.5</td>\n",
       "      <td>3</td>\n",
       "      <td>2</td>\n",
       "      <td>Não</td>\n",
       "      <td>289100</td>\n",
       "      <td>4336.5</td>\n",
       "    </tr>\n",
       "    <tr>\n",
       "      <th>4</th>\n",
       "      <td>Noroeste</td>\n",
       "      <td>Cristina</td>\n",
       "      <td>2005-10-16</td>\n",
       "      <td>Apartamento</td>\n",
       "      <td>93.0</td>\n",
       "      <td>2</td>\n",
       "      <td>2</td>\n",
       "      <td>Sim</td>\n",
       "      <td>235400</td>\n",
       "      <td>3531.0</td>\n",
       "    </tr>\n",
       "  </tbody>\n",
       "</table>\n",
       "</div>"
      ],
      "text/plain": [
       "     filial  vendedor       data         tipo   area  dorms  garag piscina  \\\n",
       "0    Centro    Simone 2005-10-08  Apartamento  102.5      2      2     Sim   \n",
       "1  Noroeste    Simone 2005-10-08  Apartamento  199.5      4      4     Não   \n",
       "2     Norte   Roberto 2005-10-12         Casa  145.5      2      2     Não   \n",
       "3   Sudeste    Simone 2005-10-14  Apartamento  153.5      3      2     Não   \n",
       "4  Noroeste  Cristina 2005-10-16  Apartamento   93.0      2      2     Sim   \n",
       "\n",
       "    preco  comissao  \n",
       "0  235500    3532.5  \n",
       "1  377700    5665.5  \n",
       "2  232500    3487.5  \n",
       "3  289100    4336.5  \n",
       "4  235400    3531.0  "
      ]
     },
     "execution_count": 8,
     "metadata": {},
     "output_type": "execute_result"
    }
   ],
   "source": [
    "df.columns = ['filial','vendedor', 'data', 'tipo',\n",
    "            'area', 'dorms', 'garag', 'piscina',\n",
    "            'preco','comissao'\n",
    "            ]\n",
    "\n",
    "df.head()"
   ]
  },
  {
   "cell_type": "markdown",
   "metadata": {},
   "source": [
    "### Quais são os tipos de dados que temos no Dataframe"
   ]
  },
  {
   "cell_type": "code",
   "execution_count": 9,
   "metadata": {},
   "outputs": [
    {
     "name": "stdout",
     "output_type": "stream",
     "text": [
      "<class 'pandas.core.frame.DataFrame'>\n",
      "RangeIndex: 1117 entries, 0 to 1116\n",
      "Data columns (total 10 columns):\n",
      " #   Column    Non-Null Count  Dtype         \n",
      "---  ------    --------------  -----         \n",
      " 0   filial    1117 non-null   object        \n",
      " 1   vendedor  1117 non-null   object        \n",
      " 2   data      1117 non-null   datetime64[ns]\n",
      " 3   tipo      1117 non-null   object        \n",
      " 4   area      1117 non-null   float64       \n",
      " 5   dorms     1117 non-null   int64         \n",
      " 6   garag     1117 non-null   int64         \n",
      " 7   piscina   1117 non-null   object        \n",
      " 8   preco     1117 non-null   int64         \n",
      " 9   comissao  1117 non-null   float64       \n",
      "dtypes: datetime64[ns](1), float64(2), int64(3), object(4)\n",
      "memory usage: 87.4+ KB\n"
     ]
    }
   ],
   "source": [
    "df.info()"
   ]
  },
  {
   "cell_type": "markdown",
   "metadata": {},
   "source": [
    "### Calcule a soma, média, máximo, mínimo e contagem da coluna Preço."
   ]
  },
  {
   "cell_type": "code",
   "execution_count": 14,
   "metadata": {},
   "outputs": [
    {
     "name": "stdout",
     "output_type": "stream",
     "text": [
      "O valor total é: 295035000\n",
      "A média dos valores é: 264131.6025067144\n",
      "O maior valor é: 384300\n",
      "O menor valor é: 145100\n",
      "O menor valor é: 1117\n"
     ]
    }
   ],
   "source": [
    "print('O valor total é:', df['preco'].sum())\n",
    "\n",
    "print('A média dos valores é:', df['preco'].mean())\n",
    "\n",
    "print('O maior valor é:', df['preco'].max())\n",
    "\n",
    "print('O menor valor é:', df['preco'].min())\n",
    "\n",
    "print('O menor valor é:', df['preco'].count())\n",
    "\n"
   ]
  },
  {
   "cell_type": "code",
   "execution_count": 15,
   "metadata": {},
   "outputs": [
    {
     "data": {
      "text/html": [
       "<div>\n",
       "<style scoped>\n",
       "    .dataframe tbody tr th:only-of-type {\n",
       "        vertical-align: middle;\n",
       "    }\n",
       "\n",
       "    .dataframe tbody tr th {\n",
       "        vertical-align: top;\n",
       "    }\n",
       "\n",
       "    .dataframe thead th {\n",
       "        text-align: right;\n",
       "    }\n",
       "</style>\n",
       "<table border=\"1\" class=\"dataframe\">\n",
       "  <thead>\n",
       "    <tr style=\"text-align: right;\">\n",
       "      <th></th>\n",
       "      <th>area</th>\n",
       "      <th>dorms</th>\n",
       "      <th>garag</th>\n",
       "      <th>preco</th>\n",
       "      <th>comissao</th>\n",
       "    </tr>\n",
       "  </thead>\n",
       "  <tbody>\n",
       "    <tr>\n",
       "      <th>count</th>\n",
       "      <td>1117.000000</td>\n",
       "      <td>1117.000000</td>\n",
       "      <td>1117.000000</td>\n",
       "      <td>1117.000000</td>\n",
       "      <td>1117.000000</td>\n",
       "    </tr>\n",
       "    <tr>\n",
       "      <th>mean</th>\n",
       "      <td>125.965085</td>\n",
       "      <td>2.523724</td>\n",
       "      <td>1.646374</td>\n",
       "      <td>264131.602507</td>\n",
       "      <td>3961.974038</td>\n",
       "    </tr>\n",
       "    <tr>\n",
       "      <th>std</th>\n",
       "      <td>53.290147</td>\n",
       "      <td>1.106603</td>\n",
       "      <td>1.233972</td>\n",
       "      <td>77249.578385</td>\n",
       "      <td>1158.743676</td>\n",
       "    </tr>\n",
       "    <tr>\n",
       "      <th>min</th>\n",
       "      <td>25.000000</td>\n",
       "      <td>1.000000</td>\n",
       "      <td>0.000000</td>\n",
       "      <td>145100.000000</td>\n",
       "      <td>2176.500000</td>\n",
       "    </tr>\n",
       "    <tr>\n",
       "      <th>25%</th>\n",
       "      <td>82.000000</td>\n",
       "      <td>2.000000</td>\n",
       "      <td>1.000000</td>\n",
       "      <td>213500.000000</td>\n",
       "      <td>3202.500000</td>\n",
       "    </tr>\n",
       "    <tr>\n",
       "      <th>50%</th>\n",
       "      <td>127.000000</td>\n",
       "      <td>3.000000</td>\n",
       "      <td>2.000000</td>\n",
       "      <td>284300.000000</td>\n",
       "      <td>4264.500000</td>\n",
       "    </tr>\n",
       "    <tr>\n",
       "      <th>75%</th>\n",
       "      <td>169.500000</td>\n",
       "      <td>3.000000</td>\n",
       "      <td>3.000000</td>\n",
       "      <td>314700.000000</td>\n",
       "      <td>4720.500000</td>\n",
       "    </tr>\n",
       "    <tr>\n",
       "      <th>max</th>\n",
       "      <td>245.000000</td>\n",
       "      <td>4.000000</td>\n",
       "      <td>4.000000</td>\n",
       "      <td>384300.000000</td>\n",
       "      <td>5764.500000</td>\n",
       "    </tr>\n",
       "  </tbody>\n",
       "</table>\n",
       "</div>"
      ],
      "text/plain": [
       "              area        dorms        garag          preco     comissao\n",
       "count  1117.000000  1117.000000  1117.000000    1117.000000  1117.000000\n",
       "mean    125.965085     2.523724     1.646374  264131.602507  3961.974038\n",
       "std      53.290147     1.106603     1.233972   77249.578385  1158.743676\n",
       "min      25.000000     1.000000     0.000000  145100.000000  2176.500000\n",
       "25%      82.000000     2.000000     1.000000  213500.000000  3202.500000\n",
       "50%     127.000000     3.000000     2.000000  284300.000000  4264.500000\n",
       "75%     169.500000     3.000000     3.000000  314700.000000  4720.500000\n",
       "max     245.000000     4.000000     4.000000  384300.000000  5764.500000"
      ]
     },
     "execution_count": 15,
     "metadata": {},
     "output_type": "execute_result"
    }
   ],
   "source": [
    "df.describe()"
   ]
  },
  {
   "cell_type": "markdown",
   "metadata": {},
   "source": [
    "### Crie um programa para criar um dataframe para mostrar as vendas por região e salvar um arquivo em excel para cada região"
   ]
  },
  {
   "cell_type": "code",
   "execution_count": 25,
   "metadata": {},
   "outputs": [],
   "source": [
    "# Filtrar um dataframe - NORTE\n",
    "\n",
    "df_norte = df[df['filial'] == 'Norte']\n",
    "\n",
    "# Diretório de destino para salvar o arquivo\n",
    "\n",
    "pasta_destino = 'C:\\\\Users\\\\FIC\\\\Documents\\\\Jose Mauro_Python\\\\Arquivos\\\\Imobiliaria_resultados\\\\'\n",
    "\n",
    "# Nome do arquivo\n",
    "\n",
    "nome_arquivo = 'Norte.xlsx'\n",
    "\n",
    "# Salvar/ Gerar um arquivo em excel\n",
    "\n",
    "df_norte.to_excel(pasta_destino + nome_arquivo)\n"
   ]
  },
  {
   "cell_type": "code",
   "execution_count": 26,
   "metadata": {},
   "outputs": [],
   "source": [
    "# Filtrar um dataframe - SUL\n",
    "\n",
    "df_SUL = df[df['filial'] == 'SUL']\n",
    "\n",
    "# Diretório de destino para salvar o arquivo\n",
    "\n",
    "pasta_destino = 'C:\\\\Users\\\\FIC\\\\Documents\\\\Jose Mauro_Python\\\\Arquivos\\\\Imobiliaria_resultados\\\\'\n",
    "\n",
    "# Nome do arquivo\n",
    "\n",
    "nome_arquivo = 'SUL.xlsx'\n",
    "\n",
    "# Salvar/ Gerar um arquivo em excel\n",
    "\n",
    "df_SUL.to_excel(pasta_destino + nome_arquivo)\n"
   ]
  },
  {
   "cell_type": "code",
   "execution_count": 27,
   "metadata": {},
   "outputs": [],
   "source": [
    "# Filtrar um dataframe - SUDESTE\n",
    "\n",
    "df_SUDESTE = df[df['filial'] == 'SUDESTE']\n",
    "\n",
    "# Diretório de destino para salvar o arquivo\n",
    "\n",
    "pasta_destino = 'C:\\\\Users\\\\FIC\\\\Documents\\\\Jose Mauro_Python\\\\Arquivos\\\\Imobiliaria_resultados\\\\'\n",
    "\n",
    "# Nome do arquivo\n",
    "\n",
    "nome_arquivo = 'SUDESTE.xlsx'\n",
    "\n",
    "# Salvar/ Gerar um arquivo em excel\n",
    "\n",
    "df_SUDESTE.to_excel(pasta_destino + nome_arquivo)\n"
   ]
  },
  {
   "cell_type": "markdown",
   "metadata": {},
   "source": [
    "### GERE UM ARQUIVO EM EXCEL PARA REPRESENTAR AS VENDAS EFETUADAS PELA FILIAL EM 2010\n"
   ]
  },
  {
   "cell_type": "code",
   "execution_count": 36,
   "metadata": {},
   "outputs": [],
   "source": [
    "dados = df[(df['data']>='2010-01-01') & (df['data']<'2010-12-31')&(df['filial']=='Norte')]\n",
    "\n",
    "# Nome do arquivo\n",
    "\n",
    "nome_arquivo = 'Norte_2010.xlsx'\n",
    "\n",
    "# Salvar/ Gerar um arquivo em excel\n",
    "\n",
    "dados.to_excel(pasta_destino + nome_arquivo)\n",
    "\n"
   ]
  },
  {
   "cell_type": "markdown",
   "metadata": {},
   "source": [
    "### Construa uma estrutura de repetição (FOR) para que a variável\n",
    "vendedor receba os nomes que estão na lista listaVendedores\n",
    "e filtre o dataframe dados, utilizando a coluna Vendedores para\n",
    "que gere um novo dataframe (df_final) para cada vendedor.\n",
    "\n",
    "Ainda na estrutura de repetição, você deve inserir uma linha de\n",
    "código para gerar um arquivoem Excel para cada vendedor,\n",
    "utilize o comando dataframe.to_excel."
   ]
  },
  {
   "cell_type": "code",
   "execution_count": 37,
   "metadata": {},
   "outputs": [
    {
     "ename": "SyntaxError",
     "evalue": "expected ':' (3393043520.py, line 1)",
     "output_type": "error",
     "traceback": [
      "\u001b[1;36m  Cell \u001b[1;32mIn[37], line 1\u001b[1;36m\u001b[0m\n\u001b[1;33m    for vendedor in listaVendedores\u001b[0m\n\u001b[1;37m                                   ^\u001b[0m\n\u001b[1;31mSyntaxError\u001b[0m\u001b[1;31m:\u001b[0m expected ':'\n"
     ]
    }
   ],
   "source": [
    "for vendedor in listaVendedores\n",
    "\n",
    "df_final = dados['Coluna']== vendedores\n",
    "df_final.to_excel(path+Vendedores+'Vendas.xlsx')\n",
    "    "
   ]
  }
 ],
 "metadata": {
  "kernelspec": {
   "display_name": "base",
   "language": "python",
   "name": "python3"
  },
  "language_info": {
   "codemirror_mode": {
    "name": "ipython",
    "version": 3
   },
   "file_extension": ".py",
   "mimetype": "text/x-python",
   "name": "python",
   "nbconvert_exporter": "python",
   "pygments_lexer": "ipython3",
   "version": "3.10.9"
  },
  "orig_nbformat": 4
 },
 "nbformat": 4,
 "nbformat_minor": 2
}
